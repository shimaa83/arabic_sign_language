{
  "nbformat": 4,
  "nbformat_minor": 0,
  "metadata": {
    "colab": {
      "provenance": [],
      "machine_shape": "hm"
    },
    "kernelspec": {
      "name": "python3",
      "display_name": "Python 3"
    },
    "language_info": {
      "name": "python"
    },
    "accelerator": "GPU",
    "gpuClass": "standard"
  },
  "cells": [
    {
      "cell_type": "code",
      "source": [
        "!pip install scipy\n",
        "import numpy as np\n",
        "import pandas as pd\n",
        "import matplotlib.pyplot as plt\n",
        "import pathlib\n",
        "import os\n",
        "import cv2\n",
        "import glob as gb\n",
        "import PIL   #pillow\n",
        "#pip install pillow\n",
        "from keras.layers import Dense, Conv2D, MaxPooling2D, AvgPool2D, Input, Dropout, Flatten, BatchNormalization\n",
        "from keras.models import Sequential, Model\n",
        "from keras.callbacks import ModelCheckpoint, ReduceLROnPlateau, EarlyStopping\n",
        "from keras.applications.vgg19 import VGG19\n",
        "import tensorflow as tf\n",
        "import pickle\n",
        "from keras.layers import Dense, Conv2D, MaxPooling2D, AvgPool2D, Input, Dropout, Flatten, BatchNormalization\n",
        "from keras.applications.vgg16 import VGG16\n",
        "from keras.applications.vgg19 import VGG19\n",
        "from keras.regularizers import l2"
      ],
      "metadata": {
        "colab": {
          "base_uri": "https://localhost:8080/"
        },
        "id": "yf1TMcHiDa0K",
        "outputId": "203caacb-7044-4cc8-b8a1-f099055d7480"
      },
      "execution_count": 1,
      "outputs": [
        {
          "output_type": "stream",
          "name": "stdout",
          "text": [
            "Looking in indexes: https://pypi.org/simple, https://us-python.pkg.dev/colab-wheels/public/simple/\n",
            "Requirement already satisfied: scipy in /usr/local/lib/python3.10/dist-packages (1.10.1)\n",
            "Requirement already satisfied: numpy<1.27.0,>=1.19.5 in /usr/local/lib/python3.10/dist-packages (from scipy) (1.22.4)\n"
          ]
        }
      ]
    },
    {
      "cell_type": "code",
      "execution_count": 2,
      "metadata": {
        "colab": {
          "base_uri": "https://localhost:8080/"
        },
        "id": "jGsQpSmlC8KQ",
        "outputId": "db988b29-a49b-4cb8-bfe5-3f1ec350146f"
      },
      "outputs": [
        {
          "output_type": "stream",
          "name": "stdout",
          "text": [
            "Mounted at /content/drive\n"
          ]
        }
      ],
      "source": [
        "from google.colab import drive\n",
        "drive.mount('/content/drive')"
      ]
    },
    {
      "cell_type": "code",
      "source": [
        "data = pd.read_csv('/content/drive/MyDrive/Colab Notebooks/sign/labels.csv')\n"
      ],
      "metadata": {
        "id": "JGS7S82iD3OP"
      },
      "execution_count": 3,
      "outputs": []
    },
    {
      "cell_type": "code",
      "source": [
        "new_size=224    \n",
        "\n",
        "X = []\n",
        "y = []\n",
        "for i in range(len(data)):\n",
        "    img_path = '/content/drive/MyDrive/Colab Notebooks/sign/images/' + data['image_name'][i]\n",
        "    orignal_image = cv2.imread(img_path)\n",
        "    image = cv2.cvtColor(orignal_image, cv2.COLOR_BGR2RGB)\n",
        "    resized_image = cv2.resize(image , (new_size,new_size))\n",
        "  \n",
        "    X.append(resized_image)\n",
        "    y.append(data['label_name'][i])"
      ],
      "metadata": {
        "id": "tRwQXyt3E0Em"
      },
      "execution_count": 4,
      "outputs": []
    },
    {
      "cell_type": "code",
      "source": [
        "label_dict = {k: v for v, k in enumerate(set(y))}\n",
        "y = [label_dict[label] for label in y]"
      ],
      "metadata": {
        "id": "77r-F824HLGD"
      },
      "execution_count": 5,
      "outputs": []
    },
    {
      "cell_type": "code",
      "source": [
        "reverse_label_dict = {v: k for k, v in label_dict.items()}\n",
        "original_labels = [reverse_label_dict[label_index] for label_index in y]\n",
        "label_dict.items()"
      ],
      "metadata": {
        "colab": {
          "base_uri": "https://localhost:8080/"
        },
        "id": "NpBky4mPf19o",
        "outputId": "3165e01f-8031-4d64-df35-5de828563413"
      },
      "execution_count": 6,
      "outputs": [
        {
          "output_type": "execute_result",
          "data": {
            "text/plain": [
              "dict_items([('month', 0), ('granfather', 1), ('drink', 2), ('zero', 3), ('sorry', 4), ('mother', 5), ('sleep', 6), ('father', 7), ('eat', 8), ('today', 9)])"
            ]
          },
          "metadata": {},
          "execution_count": 6
        }
      ]
    },
    {
      "cell_type": "code",
      "source": [
        "X = np.array(X)\n",
        "y = np.array(y, dtype=np.int32)\n",
        "from tensorflow.keras.utils import to_categorical\n",
        "y=to_categorical(y,10)\n",
        "from sklearn.utils import shuffle\n",
        "X,y = shuffle(X,y)\n",
        "X=X/255.0\n",
        "df = pd.DataFrame(list(zip(X, y)), columns =['images', 'label']) "
      ],
      "metadata": {
        "id": "j8hcvNKZHAqx"
      },
      "execution_count": 7,
      "outputs": []
    },
    {
      "cell_type": "code",
      "source": [
        "from sklearn.model_selection import train_test_split\n",
        "\n",
        "X_train, X_test, y_train, y_test = train_test_split(X, y, test_size=0.20, random_state=42)\n",
        "\n"
      ],
      "metadata": {
        "id": "emXoBm6NPDlN"
      },
      "execution_count": 8,
      "outputs": []
    },
    {
      "cell_type": "code",
      "source": [
        "from keras.preprocessing.image import ImageDataGenerator\n",
        "\n",
        "# Define an image data generator with augmentation options\n",
        "augmenter = ImageDataGenerator(rotation_range=20,\n",
        "                               width_shift_range=0.2,\n",
        "                               height_shift_range=0.2,\n",
        "                               shear_range=0.2,\n",
        "                               zoom_range=0.2,\n",
        "                               horizontal_flip=True,\n",
        "                               vertical_flip=True,\n",
        "                               fill_mode='nearest')\n",
        "\n",
        "# Load your dataset into a generator\n",
        "#val_generator = ImageDataGenerator().flow(X_test, y_test, batch_size=32)\n",
        "\n"
      ],
      "metadata": {
        "id": "2pLMoNXreChj"
      },
      "execution_count": 19,
      "outputs": []
    },
    {
      "cell_type": "code",
      "source": [
        "train_generator = augmenter.flow(X_train, y_train)\n",
        "val_generator = augmenter.flow(X_test, y_test)\n",
        "\n"
      ],
      "metadata": {
        "id": "-eUsTxGuAWJe"
      },
      "execution_count": 21,
      "outputs": []
    },
    {
      "cell_type": "code",
      "source": [
        "vgg = VGG19(input_shape=(224, 224, 3), weights='imagenet', include_top=False)\n",
        "for layer in vgg.layers:\n",
        "    layer.trainable = False\n",
        "flat_layer = Flatten()(vgg.output)\n",
        "final_layer = Dense(10, activation='softmax')(flat_layer)\n",
        "model = Model(inputs=vgg.input, outputs=final_layer)\n",
        "model.summary()\n"
      ],
      "metadata": {
        "colab": {
          "base_uri": "https://localhost:8080/"
        },
        "id": "GV72eVAbHlzQ",
        "outputId": "fd534165-4c72-4a2b-d052-41d68a2aa8bd"
      },
      "execution_count": 10,
      "outputs": [
        {
          "output_type": "stream",
          "name": "stdout",
          "text": [
            "Downloading data from https://storage.googleapis.com/tensorflow/keras-applications/vgg19/vgg19_weights_tf_dim_ordering_tf_kernels_notop.h5\n",
            "80134624/80134624 [==============================] - 5s 0us/step\n",
            "Model: \"model\"\n",
            "_________________________________________________________________\n",
            " Layer (type)                Output Shape              Param #   \n",
            "=================================================================\n",
            " input_1 (InputLayer)        [(None, 224, 224, 3)]     0         \n",
            "                                                                 \n",
            " block1_conv1 (Conv2D)       (None, 224, 224, 64)      1792      \n",
            "                                                                 \n",
            " block1_conv2 (Conv2D)       (None, 224, 224, 64)      36928     \n",
            "                                                                 \n",
            " block1_pool (MaxPooling2D)  (None, 112, 112, 64)      0         \n",
            "                                                                 \n",
            " block2_conv1 (Conv2D)       (None, 112, 112, 128)     73856     \n",
            "                                                                 \n",
            " block2_conv2 (Conv2D)       (None, 112, 112, 128)     147584    \n",
            "                                                                 \n",
            " block2_pool (MaxPooling2D)  (None, 56, 56, 128)       0         \n",
            "                                                                 \n",
            " block3_conv1 (Conv2D)       (None, 56, 56, 256)       295168    \n",
            "                                                                 \n",
            " block3_conv2 (Conv2D)       (None, 56, 56, 256)       590080    \n",
            "                                                                 \n",
            " block3_conv3 (Conv2D)       (None, 56, 56, 256)       590080    \n",
            "                                                                 \n",
            " block3_conv4 (Conv2D)       (None, 56, 56, 256)       590080    \n",
            "                                                                 \n",
            " block3_pool (MaxPooling2D)  (None, 28, 28, 256)       0         \n",
            "                                                                 \n",
            " block4_conv1 (Conv2D)       (None, 28, 28, 512)       1180160   \n",
            "                                                                 \n",
            " block4_conv2 (Conv2D)       (None, 28, 28, 512)       2359808   \n",
            "                                                                 \n",
            " block4_conv3 (Conv2D)       (None, 28, 28, 512)       2359808   \n",
            "                                                                 \n",
            " block4_conv4 (Conv2D)       (None, 28, 28, 512)       2359808   \n",
            "                                                                 \n",
            " block4_pool (MaxPooling2D)  (None, 14, 14, 512)       0         \n",
            "                                                                 \n",
            " block5_conv1 (Conv2D)       (None, 14, 14, 512)       2359808   \n",
            "                                                                 \n",
            " block5_conv2 (Conv2D)       (None, 14, 14, 512)       2359808   \n",
            "                                                                 \n",
            " block5_conv3 (Conv2D)       (None, 14, 14, 512)       2359808   \n",
            "                                                                 \n",
            " block5_conv4 (Conv2D)       (None, 14, 14, 512)       2359808   \n",
            "                                                                 \n",
            " block5_pool (MaxPooling2D)  (None, 7, 7, 512)         0         \n",
            "                                                                 \n",
            " flatten (Flatten)           (None, 25088)             0         \n",
            "                                                                 \n",
            " dense (Dense)               (None, 10)                250890    \n",
            "                                                                 \n",
            "=================================================================\n",
            "Total params: 20,275,274\n",
            "Trainable params: 250,890\n",
            "Non-trainable params: 20,024,384\n",
            "_________________________________________________________________\n"
          ]
        }
      ]
    },
    {
      "cell_type": "code",
      "source": [
        "model.compile(loss='categorical_crossentropy',optimizer='adam',metrics=['accuracy'])\n",
        "earlystop = EarlyStopping(\"val_accuracy\", patience=30, verbose=1, restore_best_weights=True,)\n",
        "\n",
        "model.fit(train_generator, epochs=100,validation_data=val_generator,callbacks=[earlystop])\n"
      ],
      "metadata": {
        "colab": {
          "base_uri": "https://localhost:8080/"
        },
        "id": "9DBv2_YkfBCA",
        "outputId": "5e1c4196-a863-4e22-dc62-a5ded0f5f7f9"
      },
      "execution_count": 22,
      "outputs": [
        {
          "output_type": "stream",
          "name": "stdout",
          "text": [
            "Epoch 1/100\n",
            "5/5 [==============================] - 3s 527ms/step - loss: 1.5754 - accuracy: 0.5897 - val_loss: 2.4326 - val_accuracy: 0.4103\n",
            "Epoch 2/100\n",
            "5/5 [==============================] - 2s 434ms/step - loss: 1.5777 - accuracy: 0.5962 - val_loss: 1.3438 - val_accuracy: 0.5897\n",
            "Epoch 3/100\n",
            "5/5 [==============================] - 2s 447ms/step - loss: 1.0637 - accuracy: 0.6218 - val_loss: 0.7321 - val_accuracy: 0.7179\n",
            "Epoch 4/100\n",
            "5/5 [==============================] - 2s 425ms/step - loss: 0.8209 - accuracy: 0.7436 - val_loss: 0.5824 - val_accuracy: 0.8205\n",
            "Epoch 5/100\n",
            "5/5 [==============================] - 2s 476ms/step - loss: 0.7627 - accuracy: 0.7821 - val_loss: 0.8391 - val_accuracy: 0.7436\n",
            "Epoch 6/100\n",
            "5/5 [==============================] - 2s 429ms/step - loss: 0.7109 - accuracy: 0.7885 - val_loss: 0.5523 - val_accuracy: 0.8462\n",
            "Epoch 7/100\n",
            "5/5 [==============================] - 2s 436ms/step - loss: 0.6703 - accuracy: 0.7949 - val_loss: 0.5076 - val_accuracy: 0.8974\n",
            "Epoch 8/100\n",
            "5/5 [==============================] - 2s 442ms/step - loss: 0.5354 - accuracy: 0.8654 - val_loss: 0.4351 - val_accuracy: 0.9231\n",
            "Epoch 9/100\n",
            "5/5 [==============================] - 2s 431ms/step - loss: 0.5505 - accuracy: 0.8654 - val_loss: 0.5281 - val_accuracy: 0.8205\n",
            "Epoch 10/100\n",
            "5/5 [==============================] - 2s 416ms/step - loss: 0.4177 - accuracy: 0.9295 - val_loss: 0.4913 - val_accuracy: 0.8462\n",
            "Epoch 11/100\n",
            "5/5 [==============================] - 2s 433ms/step - loss: 0.4633 - accuracy: 0.8718 - val_loss: 0.3318 - val_accuracy: 0.9231\n",
            "Epoch 12/100\n",
            "5/5 [==============================] - 2s 429ms/step - loss: 0.5000 - accuracy: 0.8782 - val_loss: 0.3533 - val_accuracy: 0.9231\n",
            "Epoch 13/100\n",
            "5/5 [==============================] - 2s 436ms/step - loss: 0.4989 - accuracy: 0.8846 - val_loss: 0.2951 - val_accuracy: 0.9487\n",
            "Epoch 14/100\n",
            "5/5 [==============================] - 2s 418ms/step - loss: 0.4424 - accuracy: 0.8718 - val_loss: 0.3933 - val_accuracy: 0.8974\n",
            "Epoch 15/100\n",
            "5/5 [==============================] - 2s 430ms/step - loss: 0.4346 - accuracy: 0.8590 - val_loss: 0.4958 - val_accuracy: 0.8462\n",
            "Epoch 16/100\n",
            "5/5 [==============================] - 2s 436ms/step - loss: 0.3718 - accuracy: 0.9359 - val_loss: 0.3619 - val_accuracy: 0.9744\n",
            "Epoch 17/100\n",
            "5/5 [==============================] - 2s 454ms/step - loss: 0.3601 - accuracy: 0.9231 - val_loss: 0.4100 - val_accuracy: 0.9231\n",
            "Epoch 18/100\n",
            "5/5 [==============================] - 2s 426ms/step - loss: 0.3469 - accuracy: 0.9231 - val_loss: 0.3308 - val_accuracy: 0.9487\n",
            "Epoch 19/100\n",
            "5/5 [==============================] - 2s 457ms/step - loss: 0.3207 - accuracy: 0.9551 - val_loss: 0.3038 - val_accuracy: 0.8974\n",
            "Epoch 20/100\n",
            "5/5 [==============================] - 3s 511ms/step - loss: 0.2979 - accuracy: 0.9423 - val_loss: 0.2886 - val_accuracy: 0.9744\n",
            "Epoch 21/100\n",
            "5/5 [==============================] - 2s 399ms/step - loss: 0.3201 - accuracy: 0.9167 - val_loss: 0.2223 - val_accuracy: 0.9744\n",
            "Epoch 22/100\n",
            "5/5 [==============================] - 2s 420ms/step - loss: 0.3462 - accuracy: 0.9359 - val_loss: 0.2256 - val_accuracy: 0.9744\n",
            "Epoch 23/100\n",
            "5/5 [==============================] - 2s 424ms/step - loss: 0.3315 - accuracy: 0.9103 - val_loss: 0.3313 - val_accuracy: 0.9231\n",
            "Epoch 24/100\n",
            "5/5 [==============================] - 2s 421ms/step - loss: 0.2963 - accuracy: 0.9231 - val_loss: 0.3676 - val_accuracy: 0.9231\n",
            "Epoch 25/100\n",
            "5/5 [==============================] - 2s 431ms/step - loss: 0.2883 - accuracy: 0.9359 - val_loss: 0.2150 - val_accuracy: 0.9744\n",
            "Epoch 26/100\n",
            "5/5 [==============================] - 2s 405ms/step - loss: 0.2866 - accuracy: 0.9359 - val_loss: 0.2076 - val_accuracy: 0.9744\n",
            "Epoch 27/100\n",
            "5/5 [==============================] - 2s 428ms/step - loss: 0.2891 - accuracy: 0.9103 - val_loss: 0.2266 - val_accuracy: 0.9487\n",
            "Epoch 28/100\n",
            "5/5 [==============================] - 2s 455ms/step - loss: 0.2525 - accuracy: 0.9551 - val_loss: 0.1800 - val_accuracy: 1.0000\n",
            "Epoch 29/100\n",
            "5/5 [==============================] - 2s 411ms/step - loss: 0.1933 - accuracy: 0.9679 - val_loss: 0.1518 - val_accuracy: 1.0000\n",
            "Epoch 30/100\n",
            "5/5 [==============================] - 2s 432ms/step - loss: 0.2155 - accuracy: 0.9679 - val_loss: 0.2053 - val_accuracy: 0.9744\n",
            "Epoch 31/100\n",
            "5/5 [==============================] - 2s 415ms/step - loss: 0.1834 - accuracy: 0.9744 - val_loss: 0.1690 - val_accuracy: 1.0000\n",
            "Epoch 32/100\n",
            "5/5 [==============================] - 2s 405ms/step - loss: 0.2381 - accuracy: 0.9487 - val_loss: 0.1980 - val_accuracy: 0.9744\n",
            "Epoch 33/100\n",
            "5/5 [==============================] - 2s 471ms/step - loss: 0.1943 - accuracy: 0.9808 - val_loss: 0.1961 - val_accuracy: 0.9231\n",
            "Epoch 34/100\n",
            "5/5 [==============================] - 2s 421ms/step - loss: 0.1745 - accuracy: 0.9679 - val_loss: 0.2220 - val_accuracy: 0.9487\n",
            "Epoch 35/100\n",
            "5/5 [==============================] - 2s 413ms/step - loss: 0.1654 - accuracy: 0.9872 - val_loss: 0.1904 - val_accuracy: 0.9231\n",
            "Epoch 36/100\n",
            "5/5 [==============================] - 2s 412ms/step - loss: 0.2212 - accuracy: 0.9744 - val_loss: 0.1375 - val_accuracy: 1.0000\n",
            "Epoch 37/100\n",
            "5/5 [==============================] - 2s 412ms/step - loss: 0.2065 - accuracy: 0.9423 - val_loss: 0.1765 - val_accuracy: 0.9487\n",
            "Epoch 38/100\n",
            "5/5 [==============================] - 2s 400ms/step - loss: 0.1996 - accuracy: 0.9744 - val_loss: 0.2240 - val_accuracy: 0.9487\n",
            "Epoch 39/100\n",
            "5/5 [==============================] - 2s 421ms/step - loss: 0.1746 - accuracy: 0.9551 - val_loss: 0.2439 - val_accuracy: 0.9487\n",
            "Epoch 40/100\n",
            "5/5 [==============================] - 2s 453ms/step - loss: 0.1572 - accuracy: 0.9551 - val_loss: 0.1514 - val_accuracy: 0.9744\n",
            "Epoch 41/100\n",
            "5/5 [==============================] - 2s 404ms/step - loss: 0.2005 - accuracy: 0.9487 - val_loss: 0.1468 - val_accuracy: 1.0000\n",
            "Epoch 42/100\n",
            "5/5 [==============================] - 2s 412ms/step - loss: 0.1469 - accuracy: 0.9808 - val_loss: 0.2284 - val_accuracy: 0.9487\n",
            "Epoch 43/100\n",
            "5/5 [==============================] - 2s 403ms/step - loss: 0.1572 - accuracy: 0.9808 - val_loss: 0.0680 - val_accuracy: 1.0000\n",
            "Epoch 44/100\n",
            "5/5 [==============================] - 2s 398ms/step - loss: 0.1428 - accuracy: 0.9808 - val_loss: 0.2037 - val_accuracy: 0.9487\n",
            "Epoch 45/100\n",
            "5/5 [==============================] - 2s 440ms/step - loss: 0.1657 - accuracy: 0.9423 - val_loss: 0.1138 - val_accuracy: 0.9487\n",
            "Epoch 46/100\n",
            "5/5 [==============================] - 2s 432ms/step - loss: 0.2614 - accuracy: 0.9359 - val_loss: 0.1813 - val_accuracy: 0.9744\n",
            "Epoch 47/100\n",
            "5/5 [==============================] - 2s 414ms/step - loss: 0.1697 - accuracy: 0.9744 - val_loss: 0.1664 - val_accuracy: 0.9487\n",
            "Epoch 48/100\n",
            "5/5 [==============================] - 2s 437ms/step - loss: 0.1394 - accuracy: 0.9872 - val_loss: 0.1393 - val_accuracy: 0.9487\n",
            "Epoch 49/100\n",
            "5/5 [==============================] - 2s 408ms/step - loss: 0.1952 - accuracy: 0.9679 - val_loss: 0.1672 - val_accuracy: 1.0000\n",
            "Epoch 50/100\n",
            "5/5 [==============================] - 2s 434ms/step - loss: 0.1480 - accuracy: 0.9808 - val_loss: 0.2137 - val_accuracy: 0.9744\n",
            "Epoch 51/100\n",
            "5/5 [==============================] - 2s 424ms/step - loss: 0.1245 - accuracy: 0.9936 - val_loss: 0.1945 - val_accuracy: 0.9744\n",
            "Epoch 52/100\n",
            "5/5 [==============================] - 2s 434ms/step - loss: 0.1531 - accuracy: 0.9744 - val_loss: 0.2278 - val_accuracy: 0.8974\n",
            "Epoch 53/100\n",
            "5/5 [==============================] - 2s 400ms/step - loss: 0.1637 - accuracy: 0.9615 - val_loss: 0.2421 - val_accuracy: 0.9487\n",
            "Epoch 54/100\n",
            "5/5 [==============================] - 2s 421ms/step - loss: 0.1489 - accuracy: 0.9744 - val_loss: 0.1365 - val_accuracy: 0.9487\n",
            "Epoch 55/100\n",
            "5/5 [==============================] - 2s 414ms/step - loss: 0.1228 - accuracy: 0.9808 - val_loss: 0.1315 - val_accuracy: 1.0000\n",
            "Epoch 56/100\n",
            "5/5 [==============================] - 2s 412ms/step - loss: 0.1332 - accuracy: 0.9679 - val_loss: 0.1411 - val_accuracy: 0.9487\n",
            "Epoch 57/100\n",
            "5/5 [==============================] - 2s 425ms/step - loss: 0.1522 - accuracy: 0.9615 - val_loss: 0.1820 - val_accuracy: 0.9487\n",
            "Epoch 58/100\n",
            "5/5 [==============================] - ETA: 0s - loss: 0.1620 - accuracy: 0.9551Restoring model weights from the end of the best epoch: 28.\n",
            "5/5 [==============================] - 2s 430ms/step - loss: 0.1620 - accuracy: 0.9551 - val_loss: 0.1410 - val_accuracy: 0.9744\n",
            "Epoch 58: early stopping\n"
          ]
        },
        {
          "output_type": "execute_result",
          "data": {
            "text/plain": [
              "<keras.callbacks.History at 0x7ff6f00879d0>"
            ]
          },
          "metadata": {},
          "execution_count": 22
        }
      ]
    },
    {
      "cell_type": "code",
      "source": [
        "from tensorflow.keras.models import load_model\n",
        "\n",
        "model.save('/content/drive/MyDrive/Colab Notebooks/sign/images/sign.h5')\n",
        "\n",
        "scores=model.evaluate(X_test,y_test)\n",
        "print(\"Accuarcy %s: %.2f%%\" % (model.metrics_names[1], scores[1]*100))\n",
        "\n"
      ],
      "metadata": {
        "colab": {
          "base_uri": "https://localhost:8080/"
        },
        "id": "Wq4hfgI1Loc1",
        "outputId": "a417b3f5-2a07-4a72-f557-c15e63eb8b30"
      },
      "execution_count": 24,
      "outputs": [
        {
          "output_type": "stream",
          "name": "stdout",
          "text": [
            "2/2 [==============================] - 0s 80ms/step - loss: 0.0321 - accuracy: 1.0000\n",
            "Accuarcy accuracy: 100.00%\n"
          ]
        }
      ]
    },
    {
      "cell_type": "code",
      "source": [
        "y_test_pred = model.predict(X_test)\n",
        "y_prediction = np.argmax(y_test_pred, axis=1)\n",
        "y_true=np.argmax(y_test, axis=1)"
      ],
      "metadata": {
        "colab": {
          "base_uri": "https://localhost:8080/"
        },
        "id": "1I5rEoFkNEZn",
        "outputId": "75274083-7740-47e6-b1d5-af7bced40f57"
      },
      "execution_count": null,
      "outputs": [
        {
          "output_type": "stream",
          "name": "stdout",
          "text": [
            "1/1 [==============================] - 3s 3s/step\n"
          ]
        }
      ]
    },
    {
      "cell_type": "code",
      "source": [
        "from sklearn.metrics import classification_report, confusion_matrix\n",
        "cm = confusion_matrix(y_true, y_prediction)\n",
        "cm"
      ],
      "metadata": {
        "colab": {
          "base_uri": "https://localhost:8080/"
        },
        "id": "x1xnS3DXMi3v",
        "outputId": "eacfa6a7-8641-4b61-d1f3-36ddbeb4c347"
      },
      "execution_count": null,
      "outputs": [
        {
          "output_type": "execute_result",
          "data": {
            "text/plain": [
              "array([[2, 0, 0, 0, 0, 0, 0, 0, 0],\n",
              "       [0, 3, 0, 0, 0, 0, 0, 0, 0],\n",
              "       [0, 0, 4, 0, 0, 0, 0, 0, 0],\n",
              "       [0, 0, 0, 1, 0, 0, 0, 0, 0],\n",
              "       [0, 0, 0, 0, 4, 0, 0, 0, 0],\n",
              "       [0, 0, 0, 0, 0, 2, 0, 0, 0],\n",
              "       [0, 0, 0, 0, 0, 0, 1, 0, 0],\n",
              "       [0, 0, 0, 0, 0, 0, 0, 1, 0],\n",
              "       [0, 0, 0, 0, 0, 0, 0, 0, 2]])"
            ]
          },
          "metadata": {},
          "execution_count": 16
        }
      ]
    },
    {
      "cell_type": "code",
      "source": [
        "from mlxtend.plotting import plot_confusion_matrix\n",
        "fig, ax = plot_confusion_matrix(conf_mat=cm ,  figsize=(5, 5))\n",
        "plt.show()"
      ],
      "metadata": {
        "colab": {
          "base_uri": "https://localhost:8080/",
          "height": 465
        },
        "id": "pREOTAkIOmiK",
        "outputId": "9aefdf8c-5d3a-44b7-cbcb-c445932f68a8"
      },
      "execution_count": null,
      "outputs": [
        {
          "output_type": "display_data",
          "data": {
            "text/plain": [
              "<Figure size 500x500 with 1 Axes>"
            ],
            "image/png": "[encoded data removed]"
          },
          "metadata": {}
        }
      ]
    },
    {
      "cell_type": "code",
      "source": [
        "from sklearn.metrics import classification_report\n",
        "print(classification_report(y_true, y_prediction))"
      ],
      "metadata": {
        "colab": {
          "base_uri": "https://localhost:8080/"
        },
        "id": "BfoSQXUQOtap",
        "outputId": "06d170d4-be51-4148-cfca-053568b1437f"
      },
      "execution_count": null,
      "outputs": [
        {
          "output_type": "stream",
          "name": "stdout",
          "text": [
            "              precision    recall  f1-score   support\n",
            "\n",
            "           0       1.00      1.00      1.00         2\n",
            "           1       1.00      1.00      1.00         2\n",
            "           3       1.00      1.00      1.00         3\n",
            "           4       1.00      1.00      1.00         1\n",
            "           5       1.00      1.00      1.00         6\n",
            "           6       1.00      1.00      1.00         2\n",
            "           7       1.00      1.00      1.00         1\n",
            "           8       1.00      1.00      1.00         2\n",
            "           9       1.00      1.00      1.00         1\n",
            "\n",
            "    accuracy                           1.00        20\n",
            "   macro avg       1.00      1.00      1.00        20\n",
            "weighted avg       1.00      1.00      1.00        20\n",
            "\n"
          ]
        }
      ]
    },
    {
      "cell_type": "code",
      "source": [
        "predictions = model.predict(X_test)\n",
        "\n",
        "# Get the index of the predicted label\n",
        "predicted_label_index = tf.argmax(predictions, axis=-1).numpy()[0]\n",
        "\n",
        "# Output the predicted label\n",
        "print(f\"Predicted label: {predicted_label_index}\")"
      ],
      "metadata": {
        "colab": {
          "base_uri": "https://localhost:8080/"
        },
        "id": "3jCqmseEp_1u",
        "outputId": "45f8c188-39d8-4c38-ab7d-63419e972d75"
      },
      "execution_count": null,
      "outputs": [
        {
          "output_type": "stream",
          "name": "stdout",
          "text": [
            "1/1 [==============================] - 0s 40ms/step\n",
            "Predicted label: 5\n"
          ]
        }
      ]
    },
    {
      "cell_type": "code",
      "source": [
        "z=[]\n",
        "img_path = '/content/drive/MyDrive/Colab Notebooks/sign/1.jpg' \n",
        "orignal_image = cv2.imread(img_path)\n",
        "image = cv2.cvtColor(orignal_image, cv2.COLOR_BGR2RGB)\n",
        "resized_image = cv2.resize(image, (224,224))\n",
        "z.append(resized_image)\n",
        "z= np.array(z)\n",
        "z=z/255.0"
      ],
      "metadata": {
        "id": "3Ez0f-hMtCO9"
      },
      "execution_count": 29,
      "outputs": []
    },
    {
      "cell_type": "code",
      "source": [
        "predictions = model.predict(z)\n",
        "\n",
        "# Get the index of the predicted label\n",
        "predicted_label_index = tf.argmax(predictions, axis=-1).numpy()[0]\n",
        "\n",
        "# Output the predicted label\n",
        "print(f\"Predicted label: {predicted_label_index}\")"
      ],
      "metadata": {
        "colab": {
          "base_uri": "https://localhost:8080/"
        },
        "id": "rbUrQtdirW7i",
        "outputId": "4224341a-a2e5-4174-8cce-892d4a67eb60"
      },
      "execution_count": 30,
      "outputs": [
        {
          "output_type": "stream",
          "name": "stdout",
          "text": [
            "1/1 [==============================] - 0s 19ms/step\n",
            "Predicted label: 7\n"
          ]
        }
      ]
    },
    {
      "cell_type": "code",
      "source": [
        "#dict_items([('month', 0), ('granfather', 1), ('drink', 2), ('zero', 3), ('sorry', 4), ('mother', 5), ('sleep', 6), ('father', 7), ('eat', 8), ('today', 9)])\n"
      ],
      "metadata": {
        "id": "14toeZ0ejMX_"
      },
      "execution_count": 31,
      "outputs": []
    }
  ]
}