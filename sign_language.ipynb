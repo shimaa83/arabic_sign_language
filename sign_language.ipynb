{
 "cells": [
  {
   "cell_type": "code",
   "execution_count": 9,
   "id": "5a271308",
   "metadata": {},
   "outputs": [],
   "source": [
    "import tensorflow as tf\n",
    "from tensorflow.keras.models import Sequential,Model\n",
    "from tensorflow.keras.layers import Input,Dense ,Dropout,Flatten\n",
    "from tensorflow.keras.optimizers import Adam\n",
    "from tensorflow.keras.models import load_model\n",
    "import numpy as np\n",
    "import pandas as pd\n",
    "import matplotlib.pyplot as plt\n",
    "import pathlib\n",
    "import os\n",
    "import cv2"
   ]
  },
  {
   "cell_type": "markdown",
   "id": "3ae7b1d6",
   "metadata": {},
   "source": [
    "# Model  Loading"
   ]
  },
  {
   "cell_type": "code",
   "execution_count": 6,
   "id": "95aa77de",
   "metadata": {},
   "outputs": [],
   "source": [
    "model= tf.keras.models.load_model('D:/Omdena/sign/model/sign.h5',compile=False)\n"
   ]
  },
  {
   "cell_type": "code",
   "execution_count": 7,
   "id": "b312757d",
   "metadata": {},
   "outputs": [],
   "source": [
    "model.compile(loss='categorical_crossentropy',optimizer='adam',metrics=['accuracy'])\n"
   ]
  },
  {
   "cell_type": "code",
   "execution_count": 25,
   "id": "c9a441d1",
   "metadata": {},
   "outputs": [],
   "source": [
    "z=[]\n",
    "img_path = 'D:/Omdena/sign/image_labels/test/images/bab.35c8c08d-e3a0-11ed-9acb-18dbf20f662b.jpg' \n",
    "orignal_image = cv2.imread(img_path)\n",
    "image = cv2.cvtColor(orignal_image, cv2.COLOR_BGR2RGB)\n",
    "resized_image = cv2.resize(image, (224,224))\n",
    "z.append(resized_image)\n",
    "z= np.array(z)\n",
    "z=z/255.0"
   ]
  },
  {
   "cell_type": "code",
   "execution_count": 72,
   "id": "76a1220a",
   "metadata": {},
   "outputs": [],
   "source": [
    "# Initialize the camera\n",
    "cap = cv2.VideoCapture(0)\n",
    "\n",
    "# Capture a frame from the camera\n",
    "ret, frame = cap.read()\n",
    "\n",
    "# Save the captured frame as an image file\n",
    "cv2.imwrite(\"D:/Omdena/sign/captured_image.jpg\", frame)\n",
    "\n",
    "# Release the camera\n",
    "cap.release()"
   ]
  },
  {
   "cell_type": "code",
   "execution_count": 73,
   "id": "05c199c4",
   "metadata": {},
   "outputs": [],
   "source": [
    "z=[]\n",
    "img_path = 'D:/Omdena/sign/captured_image.jpg' \n",
    "orignal_image = cv2.imread(img_path)\n",
    "image = cv2.cvtColor(orignal_image, cv2.COLOR_BGR2RGB)\n",
    "resized_image = cv2.resize(image, (224,224))\n",
    "z.append(resized_image)\n",
    "z= np.array(z)\n",
    "z=z/255.0"
   ]
  },
  {
   "cell_type": "code",
   "execution_count": 74,
   "id": "b37f214b",
   "metadata": {},
   "outputs": [
    {
     "name": "stdout",
     "output_type": "stream",
     "text": [
      "father\n"
     ]
    }
   ],
   "source": [
    "predictions = model.predict(z)\n",
    "\n",
    "# Get the index of the predicted label\n",
    "predicted_label_index = tf.argmax(predictions, axis=-1).numpy()[0]\n",
    "mydict={'drink': 0, 'month': 1,'father':2,'sorry':3,'mother':4,'today':5,'zero':6,'eat':7,'grandfather':8,'sleep':9}\n",
    "\n",
    "print(list(mydict.keys())[list(mydict.values()).index(predicted_label_index)]) # Output the predicted label"
   ]
  },
  {
   "cell_type": "code",
   "execution_count": null,
   "id": "d56e3a35",
   "metadata": {},
   "outputs": [],
   "source": []
  }
 ],
 "metadata": {
  "kernelspec": {
   "display_name": "Python 3",
   "language": "python",
   "name": "python3"
  },
  "language_info": {
   "codemirror_mode": {
    "name": "ipython",
    "version": 3
   },
   "file_extension": ".py",
   "mimetype": "text/x-python",
   "name": "python",
   "nbconvert_exporter": "python",
   "pygments_lexer": "ipython3",
   "version": "3.8.8"
  }
 },
 "nbformat": 4,
 "nbformat_minor": 5
}
