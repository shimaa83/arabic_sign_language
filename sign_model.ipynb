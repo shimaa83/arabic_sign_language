{
  "nbformat": 4,
  "nbformat_minor": 0,
  "metadata": {
    "colab": {
      "provenance": [],
      "machine_shape": "hm"
    },
    "kernelspec": {
      "name": "python3",
      "display_name": "Python 3"
    },
    "language_info": {
      "name": "python"
    },
    "accelerator": "GPU",
    "gpuClass": "standard"
  },
  "cells": [
    {
      "cell_type": "code",
      "source": [
        "!pip install scipy\n",
        "import numpy as np\n",
        "import pandas as pd\n",
        "import matplotlib.pyplot as plt\n",
        "import pathlib\n",
        "import os\n",
        "import cv2\n",
        "import glob as gb\n",
        "import PIL   #pillow\n",
        "#pip install pillow\n",
        "from keras.layers import Dense, Conv2D, MaxPooling2D, AvgPool2D, Input, Dropout, Flatten, BatchNormalization\n",
        "from keras.models import Sequential, Model\n",
        "from keras.callbacks import ModelCheckpoint, ReduceLROnPlateau, EarlyStopping\n",
        "from keras.applications.vgg19 import VGG19\n",
        "import tensorflow as tf\n",
        "import pickle\n",
        "from keras.layers import Dense, Conv2D, MaxPooling2D, AvgPool2D, Input, Dropout, Flatten, BatchNormalization\n",
        "from keras.applications.vgg16 import VGG16\n",
        "from keras.applications.vgg19 import VGG19\n",
        "from keras.regularizers import l2"
      ],
      "metadata": {
        "colab": {
          "base_uri": "https://localhost:8080/"
        },
        "id": "yf1TMcHiDa0K",
        "outputId": "bab30078-fa58-4a1c-8799-696bbfc8d1c7"
      },
      "execution_count": 1,
      "outputs": [
        {
          "output_type": "stream",
          "name": "stdout",
          "text": [
            "Looking in indexes: https://pypi.org/simple, https://us-python.pkg.dev/colab-wheels/public/simple/\n",
            "Requirement already satisfied: scipy in /usr/local/lib/python3.10/dist-packages (1.10.1)\n",
            "Requirement already satisfied: numpy<1.27.0,>=1.19.5 in /usr/local/lib/python3.10/dist-packages (from scipy) (1.22.4)\n"
          ]
        }
      ]
    },
    {
      "cell_type": "code",
      "execution_count": 2,
      "metadata": {
        "colab": {
          "base_uri": "https://localhost:8080/"
        },
        "id": "jGsQpSmlC8KQ",
        "outputId": "68c3ff88-75b9-46a1-b5eb-1a7048ae1829"
      },
      "outputs": [
        {
          "output_type": "stream",
          "name": "stdout",
          "text": [
            "Mounted at /content/drive\n"
          ]
        }
      ],
      "source": [
        "from google.colab import drive\n",
        "drive.mount('/content/drive')"
      ]
    },
    {
      "cell_type": "code",
      "source": [
        "data = pd.read_csv('/content/drive/MyDrive/Colab Notebooks/sign/labels.csv')\n"
      ],
      "metadata": {
        "id": "JGS7S82iD3OP"
      },
      "execution_count": 3,
      "outputs": []
    },
    {
      "cell_type": "code",
      "source": [
        "new_size=224    \n",
        "\n",
        "X = []\n",
        "y = []\n",
        "for i in range(len(data)):\n",
        "    img_path = '/content/drive/MyDrive/Colab Notebooks/sign/images/' + data['image_name'][i]\n",
        "    print(img_path)\n",
        "    orignal_image = cv2.imread(img_path)\n",
        "    image = cv2.cvtColor(orignal_image, cv2.COLOR_BGR2RGB)\n",
        "    resized_image = cv2.resize(image , (new_size,new_size))\n",
        "  \n",
        "    X.append(resized_image)\n",
        "    y.append(data['label_name'][i])"
      ],
      "metadata": {
        "id": "tRwQXyt3E0Em",
        "colab": {
          "base_uri": "https://localhost:8080/"
        },
        "outputId": "2cf2d3e1-047f-4a80-d9dc-62a82001f0fa"
      },
      "execution_count": 22,
      "outputs": [
        {
          "output_type": "stream",
          "name": "stdout",
          "text": [
            "/content/drive/MyDrive/Colab Notebooks/sign/images/bab.2fafd662-e3a0-11ed-b28d-18dbf20f662b.jpg\n",
            "/content/drive/MyDrive/Colab Notebooks/sign/images/bab.30e80256-e3a0-11ed-80b8-18dbf20f662b.jpg\n",
            "/content/drive/MyDrive/Colab Notebooks/sign/images/bab.321ee2cf-e3a0-11ed-acc1-18dbf20f662b.jpg\n",
            "/content/drive/MyDrive/Colab Notebooks/sign/images/bab.34914e6a-e3a0-11ed-aaed-18dbf20f662b.jpg\n",
            "/content/drive/MyDrive/Colab Notebooks/sign/images/bab.35c8c08d-e3a0-11ed-9acb-18dbf20f662b.jpg\n",
            "/content/drive/MyDrive/Colab Notebooks/sign/images/bab.37000cb0-e3a0-11ed-976c-18dbf20f662b.jpg\n",
            "/content/drive/MyDrive/Colab Notebooks/sign/images/bab.3838b351-e3a0-11ed-a828-18dbf20f662b - Copy.jpg\n",
            "/content/drive/MyDrive/Colab Notebooks/sign/images/bab.3838b351-e3a0-11ed-a828-18dbf20f662b.jpg\n",
            "/content/drive/MyDrive/Colab Notebooks/sign/images/bab.39705ff6-e3a0-11ed-b5e7-18dbf20f662b.jpg\n",
            "/content/drive/MyDrive/Colab Notebooks/sign/images/bab.3bde81c8-e3a0-11ed-8f61-18dbf20f662b.jpg\n",
            "/content/drive/MyDrive/Colab Notebooks/sign/images/bab2.66ef6656-e3a0-11ed-a84e-18dbf20f662b.jpg\n",
            "/content/drive/MyDrive/Colab Notebooks/sign/images/bab2.68279fd0-e3a0-11ed-a622-18dbf20f662b.jpg\n",
            "/content/drive/MyDrive/Colab Notebooks/sign/images/bab2.695f3221-e3a0-11ed-8770-18dbf20f662b.jpg\n",
            "/content/drive/MyDrive/Colab Notebooks/sign/images/bab2.6a973d7e-e3a0-11ed-a31c-18dbf20f662b.jpg\n",
            "/content/drive/MyDrive/Colab Notebooks/sign/images/bab2.6bcf58ba-e3a0-11ed-bd88-18dbf20f662b.jpg\n",
            "/content/drive/MyDrive/Colab Notebooks/sign/images/bab2.6d06c404-e3a0-11ed-aaf7-18dbf20f662b.jpg\n",
            "/content/drive/MyDrive/Colab Notebooks/sign/images/bab2.6e3d06ed-e3a0-11ed-8e68-18dbf20f662b.jpg\n",
            "/content/drive/MyDrive/Colab Notebooks/sign/images/bab2.6f76c8e3-e3a0-11ed-ad3b-18dbf20f662b.jpg\n",
            "/content/drive/MyDrive/Colab Notebooks/sign/images/bab2.70ae1670-e3a0-11ed-a2cf-18dbf20f662b.jpg\n",
            "/content/drive/MyDrive/Colab Notebooks/sign/images/bab2.71e5fbba-e3a0-11ed-8271-18dbf20f662b.jpg\n",
            "/content/drive/MyDrive/Colab Notebooks/sign/images/day.abd67f1f-e3a0-11ed-b69a-18dbf20f662b.jpg\n",
            "/content/drive/MyDrive/Colab Notebooks/sign/images/day.ad19c5e5-e3a0-11ed-b7a6-18dbf20f662b.jpg\n",
            "/content/drive/MyDrive/Colab Notebooks/sign/images/day.ae5423d5-e3a0-11ed-bd12-18dbf20f662b - Copy (2).jpg\n",
            "/content/drive/MyDrive/Colab Notebooks/sign/images/day.ae5423d5-e3a0-11ed-bd12-18dbf20f662b - Copy.jpg\n",
            "/content/drive/MyDrive/Colab Notebooks/sign/images/day.ae5423d5-e3a0-11ed-bd12-18dbf20f662b.jpg\n",
            "/content/drive/MyDrive/Colab Notebooks/sign/images/day.af8c261c-e3a0-11ed-ba8e-18dbf20f662b.jpg\n",
            "/content/drive/MyDrive/Colab Notebooks/sign/images/day.b0c45f8f-e3a0-11ed-9e0e-18dbf20f662b.jpg\n",
            "/content/drive/MyDrive/Colab Notebooks/sign/images/day.b46cfb6c-e3a0-11ed-8cfc-18dbf20f662b.jpg\n",
            "/content/drive/MyDrive/Colab Notebooks/sign/images/day.b5a54701-e3a0-11ed-aa89-18dbf20f662b.jpg\n",
            "/content/drive/MyDrive/Colab Notebooks/sign/images/day.b6dda922-e3a0-11ed-b087-18dbf20f662b.jpg\n",
            "/content/drive/MyDrive/Colab Notebooks/sign/images/day.b8167800-e3a0-11ed-b84d-18dbf20f662b - Copy.jpg\n",
            "/content/drive/MyDrive/Colab Notebooks/sign/images/day.b8167800-e3a0-11ed-b84d-18dbf20f662b.jpg\n",
            "/content/drive/MyDrive/Colab Notebooks/sign/images/day.b94e632c-e3a0-11ed-9ef1-18dbf20f662b - Copy.jpg\n",
            "/content/drive/MyDrive/Colab Notebooks/sign/images/day.b94e632c-e3a0-11ed-9ef1-18dbf20f662b.jpg\n",
            "/content/drive/MyDrive/Colab Notebooks/sign/images/day.ba852370-e3a0-11ed-a682-18dbf20f662b.jpg\n",
            "/content/drive/MyDrive/Colab Notebooks/sign/images/day.bbbd83c5-e3a0-11ed-8a7e-18dbf20f662b.jpg\n",
            "/content/drive/MyDrive/Colab Notebooks/sign/images/day.bf657fb3-e3a0-11ed-aa83-18dbf20f662b - Copy.jpg\n",
            "/content/drive/MyDrive/Colab Notebooks/sign/images/day.bf657fb3-e3a0-11ed-aa83-18dbf20f662b.jpg\n",
            "/content/drive/MyDrive/Colab Notebooks/sign/images/day.c09e3fe6-e3a0-11ed-9a26-18dbf20f662b.jpg\n",
            "/content/drive/MyDrive/Colab Notebooks/sign/images/day.c1d6c477-e3a0-11ed-9bcd-18dbf20f662b.jpg\n",
            "/content/drive/MyDrive/Colab Notebooks/sign/images/drink.8ca9b3af-e39f-11ed-a142-18dbf20f662b.jpg\n",
            "/content/drive/MyDrive/Colab Notebooks/sign/images/drink.8de2d128-e39f-11ed-afd3-18dbf20f662b.jpg\n",
            "/content/drive/MyDrive/Colab Notebooks/sign/images/drink.8f1ae5bb-e39f-11ed-9a07-18dbf20f662b.jpg\n",
            "/content/drive/MyDrive/Colab Notebooks/sign/images/drink.905441c1-e39f-11ed-b6d4-18dbf20f662b.jpg\n",
            "/content/drive/MyDrive/Colab Notebooks/sign/images/drink.918d4415-e39f-11ed-bee1-18dbf20f662b.jpg\n",
            "/content/drive/MyDrive/Colab Notebooks/sign/images/drink.92c3ff83-e39f-11ed-92e9-18dbf20f662b.jpg\n",
            "/content/drive/MyDrive/Colab Notebooks/sign/images/drink.93faec0c-e39f-11ed-8d92-18dbf20f662b.jpg\n",
            "/content/drive/MyDrive/Colab Notebooks/sign/images/drink.966cd6b1-e39f-11ed-81bd-18dbf20f662b.jpg\n",
            "/content/drive/MyDrive/Colab Notebooks/sign/images/drink2.ad1ab58c-e39f-11ed-a730-18dbf20f662b.jpg\n",
            "/content/drive/MyDrive/Colab Notebooks/sign/images/drink2.ae538c71-e39f-11ed-96a5-18dbf20f662b.jpg\n",
            "/content/drive/MyDrive/Colab Notebooks/sign/images/drink2.af8b19aa-e39f-11ed-93a5-18dbf20f662b.jpg\n",
            "/content/drive/MyDrive/Colab Notebooks/sign/images/drink2.b94b539c-e39f-11ed-a659-18dbf20f662b.jpg\n",
            "/content/drive/MyDrive/Colab Notebooks/sign/images/drink2.ba8269de-e39f-11ed-b3ae-18dbf20f662b.jpg\n",
            "/content/drive/MyDrive/Colab Notebooks/sign/images/drink2.bbb9446c-e39f-11ed-a639-18dbf20f662b.jpg\n",
            "/content/drive/MyDrive/Colab Notebooks/sign/images/drink2.bcf1925b-e39f-11ed-8d09-18dbf20f662b.jpg\n",
            "/content/drive/MyDrive/Colab Notebooks/sign/images/drink2.be298645-e39f-11ed-965c-18dbf20f662b.jpg\n",
            "/content/drive/MyDrive/Colab Notebooks/sign/images/eat.001aec7f-e39f-11ed-9e61-18dbf20f662b.jpg\n",
            "/content/drive/MyDrive/Colab Notebooks/sign/images/eat.0153290b-e39f-11ed-8ef6-18dbf20f662b.jpg\n",
            "/content/drive/MyDrive/Colab Notebooks/sign/images/eat.028ab49a-e39f-11ed-9d9f-18dbf20f662b.jpg\n",
            "/content/drive/MyDrive/Colab Notebooks/sign/images/eat.03c2c4eb-e39f-11ed-9e4e-18dbf20f662b.jpg\n",
            "/content/drive/MyDrive/Colab Notebooks/sign/images/eat.04faaace-e39f-11ed-b7fe-18dbf20f662b.jpg\n",
            "/content/drive/MyDrive/Colab Notebooks/sign/images/eat.0631e2ed-e39f-11ed-8ef6-18dbf20f662b.jpg\n",
            "/content/drive/MyDrive/Colab Notebooks/sign/images/eat.eefc8d9f-e39e-11ed-98b2-18dbf20f662b.jpg\n",
            "/content/drive/MyDrive/Colab Notebooks/sign/images/eat.f045bab5-e39e-11ed-8b86-18dbf20f662b.jpg\n",
            "/content/drive/MyDrive/Colab Notebooks/sign/images/eat.f17d6300-e39e-11ed-aab7-18dbf20f662b.jpg\n",
            "/content/drive/MyDrive/Colab Notebooks/sign/images/eat.f2b55be6-e39e-11ed-938a-18dbf20f662b.jpg\n",
            "/content/drive/MyDrive/Colab Notebooks/sign/images/eat.f3ed12b7-e39e-11ed-876f-18dbf20f662b.jpg\n",
            "/content/drive/MyDrive/Colab Notebooks/sign/images/eat.f524a10a-e39e-11ed-b34d-18dbf20f662b.jpg\n",
            "/content/drive/MyDrive/Colab Notebooks/sign/images/eat.f65c608b-e39e-11ed-86cf-18dbf20f662b.jpg\n",
            "/content/drive/MyDrive/Colab Notebooks/sign/images/eat.f7938bed-e39e-11ed-87ca-18dbf20f662b.jpg\n",
            "/content/drive/MyDrive/Colab Notebooks/sign/images/eat.f8cabac6-e39e-11ed-b8f2-18dbf20f662b.jpg\n",
            "/content/drive/MyDrive/Colab Notebooks/sign/images/eat.fa02735b-e39e-11ed-b84e-18dbf20f662b.jpg\n",
            "/content/drive/MyDrive/Colab Notebooks/sign/images/eat.fb3bd554-e39e-11ed-9382-18dbf20f662b.jpg\n",
            "/content/drive/MyDrive/Colab Notebooks/sign/images/eat.fc7243d3-e39e-11ed-a0e1-18dbf20f662b.jpg\n",
            "/content/drive/MyDrive/Colab Notebooks/sign/images/eat.fda9833f-e39e-11ed-9d7b-18dbf20f662b.jpg\n",
            "/content/drive/MyDrive/Colab Notebooks/sign/images/eat.fee15411-e39e-11ed-8a0b-18dbf20f662b.jpg\n",
            "/content/drive/MyDrive/Colab Notebooks/sign/images/grandfather.28537c9d-e3a2-11ed-b574-18dbf20f662b.jpg\n",
            "/content/drive/MyDrive/Colab Notebooks/sign/images/grandfather.29995f9d-e3a2-11ed-9e6c-18dbf20f662b.jpg\n",
            "/content/drive/MyDrive/Colab Notebooks/sign/images/grandfather.2acfbc14-e3a2-11ed-b45d-18dbf20f662b.jpg\n",
            "/content/drive/MyDrive/Colab Notebooks/sign/images/grandfather.2c0570f0-e3a2-11ed-aa91-18dbf20f662b.jpg\n",
            "/content/drive/MyDrive/Colab Notebooks/sign/images/grandfather.2d3c5804-e3a2-11ed-84b1-18dbf20f662b.jpg\n",
            "/content/drive/MyDrive/Colab Notebooks/sign/images/grandfather.2fab0658-e3a2-11ed-9d3c-18dbf20f662b.jpg\n",
            "/content/drive/MyDrive/Colab Notebooks/sign/images/grandfather.30e24354-e3a2-11ed-977d-18dbf20f662b.jpg\n",
            "/content/drive/MyDrive/Colab Notebooks/sign/images/grandfather.3219ea42-e3a2-11ed-ad7f-18dbf20f662b.jpg\n",
            "/content/drive/MyDrive/Colab Notebooks/sign/images/grandfather.3350f4a8-e3a2-11ed-a655-18dbf20f662b.jpg\n",
            "/content/drive/MyDrive/Colab Notebooks/sign/images/grandfather.34891db2-e3a2-11ed-b1bd-18dbf20f662b - Copy.jpg\n",
            "/content/drive/MyDrive/Colab Notebooks/sign/images/grandfather.34891db2-e3a2-11ed-b1bd-18dbf20f662b.jpg\n",
            "/content/drive/MyDrive/Colab Notebooks/sign/images/grandfather.35c0da19-e3a2-11ed-a8b6-18dbf20f662b.jpg\n",
            "/content/drive/MyDrive/Colab Notebooks/sign/images/grandfather.36f86ef6-e3a2-11ed-940a-18dbf20f662b.jpg\n",
            "/content/drive/MyDrive/Colab Notebooks/sign/images/grandfather.382fda37-e3a2-11ed-9678-18dbf20f662b.jpg\n",
            "/content/drive/MyDrive/Colab Notebooks/sign/images/grandfather.3aa0ae5e-e3a2-11ed-82c7-18dbf20f662b.jpg\n",
            "/content/drive/MyDrive/Colab Notebooks/sign/images/grandfather.3bd75b88-e3a2-11ed-befa-18dbf20f662b.jpg\n",
            "/content/drive/MyDrive/Colab Notebooks/sign/images/grandfather.3d0e9767-e3a2-11ed-848e-18dbf20f662b.jpg\n",
            "/content/drive/MyDrive/Colab Notebooks/sign/images/grandfather.3e470f04-e3a2-11ed-ac95-18dbf20f662b.jpg\n",
            "/content/drive/MyDrive/Colab Notebooks/sign/images/grandfather.3f7ec2f0-e3a2-11ed-bcc8-18dbf20f662b.jpg\n",
            "/content/drive/MyDrive/Colab Notebooks/sign/images/mam.00fea7b1-e3a0-11ed-b1bc-18dbf20f662b.jpg\n",
            "/content/drive/MyDrive/Colab Notebooks/sign/images/mam.e9c0d0c6-e39f-11ed-be30-18dbf20f662b.jpg\n",
            "/content/drive/MyDrive/Colab Notebooks/sign/images/mam.eb0e50ea-e39f-11ed-9022-18dbf20f662b.jpg\n",
            "/content/drive/MyDrive/Colab Notebooks/sign/images/mam.ec496a97-e39f-11ed-9281-18dbf20f662b.jpg\n",
            "/content/drive/MyDrive/Colab Notebooks/sign/images/mam.ed823fba-e39f-11ed-86e8-18dbf20f662b.jpg\n",
            "/content/drive/MyDrive/Colab Notebooks/sign/images/mam.eeba863b-e39f-11ed-b242-18dbf20f662b.jpg\n",
            "/content/drive/MyDrive/Colab Notebooks/sign/images/mam.eff2d868-e39f-11ed-b59d-18dbf20f662b.jpg\n",
            "/content/drive/MyDrive/Colab Notebooks/sign/images/mam.f12be9e1-e39f-11ed-8716-18dbf20f662b.jpg\n",
            "/content/drive/MyDrive/Colab Notebooks/sign/images/mam.f26306c2-e39f-11ed-94b9-18dbf20f662b.jpg\n",
            "/content/drive/MyDrive/Colab Notebooks/sign/images/mam.f3997dbe-e39f-11ed-bbdd-18dbf20f662b.jpg\n",
            "/content/drive/MyDrive/Colab Notebooks/sign/images/mam.f4d187b8-e39f-11ed-92b6-18dbf20f662b.jpg\n",
            "/content/drive/MyDrive/Colab Notebooks/sign/images/mam.f60943d8-e39f-11ed-b41a-18dbf20f662b.jpg\n",
            "/content/drive/MyDrive/Colab Notebooks/sign/images/mam.f74195ca-e39f-11ed-94e0-18dbf20f662b.jpg\n",
            "/content/drive/MyDrive/Colab Notebooks/sign/images/mam.f87948ae-e39f-11ed-8d54-18dbf20f662b.jpg\n",
            "/content/drive/MyDrive/Colab Notebooks/sign/images/mam.f9b060ec-e39f-11ed-b909-18dbf20f662b.jpg\n",
            "/content/drive/MyDrive/Colab Notebooks/sign/images/mam.fae81b98-e39f-11ed-b03e-18dbf20f662b.jpg\n",
            "/content/drive/MyDrive/Colab Notebooks/sign/images/mam.fc204fdf-e39f-11ed-ab5c-18dbf20f662b.jpg\n",
            "/content/drive/MyDrive/Colab Notebooks/sign/images/mam.fd56f3b4-e39f-11ed-8427-18dbf20f662b.jpg\n",
            "/content/drive/MyDrive/Colab Notebooks/sign/images/mam.fe8f37d9-e39f-11ed-9ddb-18dbf20f662b.jpg\n",
            "/content/drive/MyDrive/Colab Notebooks/sign/images/mam.ffc701e9-e39f-11ed-b97c-18dbf20f662b.jpg\n",
            "/content/drive/MyDrive/Colab Notebooks/sign/images/month.604a7b70-e3a2-11ed-b760-18dbf20f662b.jpg\n",
            "/content/drive/MyDrive/Colab Notebooks/sign/images/month.6189e2fb-e3a2-11ed-9b8d-18dbf20f662b.jpg\n",
            "/content/drive/MyDrive/Colab Notebooks/sign/images/month.62bfce30-e3a2-11ed-8f38-18dbf20f662b.jpg\n",
            "/content/drive/MyDrive/Colab Notebooks/sign/images/month.63f8f7d2-e3a2-11ed-8cdb-18dbf20f662b.jpg\n",
            "/content/drive/MyDrive/Colab Notebooks/sign/images/month.653046b3-e3a2-11ed-95aa-18dbf20f662b.jpg\n",
            "/content/drive/MyDrive/Colab Notebooks/sign/images/month.6667b0b3-e3a2-11ed-8382-18dbf20f662b.jpg\n",
            "/content/drive/MyDrive/Colab Notebooks/sign/images/month.679e7b01-e3a2-11ed-9af0-18dbf20f662b.jpg\n",
            "/content/drive/MyDrive/Colab Notebooks/sign/images/month.68d67525-e3a2-11ed-aff7-18dbf20f662b.jpg\n",
            "/content/drive/MyDrive/Colab Notebooks/sign/images/month.6a0eb8e8-e3a2-11ed-b438-18dbf20f662b.jpg\n",
            "/content/drive/MyDrive/Colab Notebooks/sign/images/month.6b439cb9-e3a2-11ed-8117-18dbf20f662b.jpg\n",
            "/content/drive/MyDrive/Colab Notebooks/sign/images/month.6c7aa93d-e3a2-11ed-8a14-18dbf20f662b.jpg\n",
            "/content/drive/MyDrive/Colab Notebooks/sign/images/month.6db0b0e7-e3a2-11ed-b241-18dbf20f662b.jpg\n",
            "/content/drive/MyDrive/Colab Notebooks/sign/images/month.6eea5337-e3a2-11ed-980a-18dbf20f662b.jpg\n",
            "/content/drive/MyDrive/Colab Notebooks/sign/images/month.7021bada-e3a2-11ed-ad62-18dbf20f662b.jpg\n",
            "/content/drive/MyDrive/Colab Notebooks/sign/images/month.715923a6-e3a2-11ed-87c8-18dbf20f662b.jpg\n",
            "/content/drive/MyDrive/Colab Notebooks/sign/images/month.72903f80-e3a2-11ed-9471-18dbf20f662b.jpg\n",
            "/content/drive/MyDrive/Colab Notebooks/sign/images/month.73c70c96-e3a2-11ed-96b2-18dbf20f662b.jpg\n",
            "/content/drive/MyDrive/Colab Notebooks/sign/images/month.74febbf6-e3a2-11ed-8da8-18dbf20f662b.jpg\n",
            "/content/drive/MyDrive/Colab Notebooks/sign/images/month.76371136-e3a2-11ed-a7b1-18dbf20f662b.jpg\n",
            "/content/drive/MyDrive/Colab Notebooks/sign/images/month.776c6fae-e3a2-11ed-a086-18dbf20f662b.jpg\n",
            "/content/drive/MyDrive/Colab Notebooks/sign/images/sleep.18e851d8-e3a4-11ed-ac5b-18dbf20f662b.jpg\n",
            "/content/drive/MyDrive/Colab Notebooks/sign/images/sleep.1a2876ec-e3a4-11ed-a1be-18dbf20f662b.jpg\n",
            "/content/drive/MyDrive/Colab Notebooks/sign/images/sleep.1b614043-e3a4-11ed-9599-18dbf20f662b.jpg\n",
            "/content/drive/MyDrive/Colab Notebooks/sign/images/sleep.1c9707e7-e3a4-11ed-ae06-18dbf20f662b.jpg\n",
            "/content/drive/MyDrive/Colab Notebooks/sign/images/sleep.1dd074fa-e3a4-11ed-b280-18dbf20f662b.jpg\n",
            "/content/drive/MyDrive/Colab Notebooks/sign/images/sleep.1f072e82-e3a4-11ed-9586-18dbf20f662b.jpg\n",
            "/content/drive/MyDrive/Colab Notebooks/sign/images/sleep.203f8109-e3a4-11ed-8f35-18dbf20f662b.jpg\n",
            "/content/drive/MyDrive/Colab Notebooks/sign/images/sleep.2177302d-e3a4-11ed-aa4e-18dbf20f662b.jpg\n",
            "/content/drive/MyDrive/Colab Notebooks/sign/images/sleep.22af11d7-e3a4-11ed-adcc-18dbf20f662b.jpg\n",
            "/content/drive/MyDrive/Colab Notebooks/sign/images/sleep.23e77235-e3a4-11ed-b260-18dbf20f662b.jpg\n",
            "/content/drive/MyDrive/Colab Notebooks/sign/images/sleep.251e5693-e3a4-11ed-986e-18dbf20f662b.jpg\n",
            "/content/drive/MyDrive/Colab Notebooks/sign/images/sleep.2654f4ab-e3a4-11ed-ab10-18dbf20f662b.jpg\n",
            "/content/drive/MyDrive/Colab Notebooks/sign/images/sleep.278c5184-e3a4-11ed-9ff6-18dbf20f662b.jpg\n",
            "/content/drive/MyDrive/Colab Notebooks/sign/images/sleep.28c3f73a-e3a4-11ed-b2fb-18dbf20f662b.jpg\n",
            "/content/drive/MyDrive/Colab Notebooks/sign/images/sleep.29fc4cff-e3a4-11ed-aa63-18dbf20f662b.jpg\n",
            "/content/drive/MyDrive/Colab Notebooks/sign/images/sleep.2b33d7d4-e3a4-11ed-91c5-18dbf20f662b.jpg\n",
            "/content/drive/MyDrive/Colab Notebooks/sign/images/sleep.2c6ab0fb-e3a4-11ed-8bd4-18dbf20f662b.jpg\n",
            "/content/drive/MyDrive/Colab Notebooks/sign/images/sleep.2da1e170-e3a4-11ed-83d0-18dbf20f662b.jpg\n",
            "/content/drive/MyDrive/Colab Notebooks/sign/images/sleep.3010ffc0-e3a4-11ed-be8c-18dbf20f662b.jpg\n",
            "/content/drive/MyDrive/Colab Notebooks/sign/images/sleep.362360ac-e3a4-11ed-8949-18dbf20f662b.jpg\n",
            "/content/drive/MyDrive/Colab Notebooks/sign/images/sorry.68798567-e3a3-11ed-b392-18dbf20f662b.jpg\n",
            "/content/drive/MyDrive/Colab Notebooks/sign/images/sorry2.9803aaa2-e3a3-11ed-a46b-18dbf20f662b.jpg\n",
            "/content/drive/MyDrive/Colab Notebooks/sign/images/sorry2.993c1371-e3a3-11ed-8957-18dbf20f662b - Copy (2).jpg\n",
            "/content/drive/MyDrive/Colab Notebooks/sign/images/sorry2.993c1371-e3a3-11ed-8957-18dbf20f662b - Copy.jpg\n",
            "/content/drive/MyDrive/Colab Notebooks/sign/images/sorry2.993c1371-e3a3-11ed-8957-18dbf20f662b.jpg\n",
            "/content/drive/MyDrive/Colab Notebooks/sign/images/sorry2.9f4ea465-e3a3-11ed-ad88-18dbf20f662b - Copy.jpg\n",
            "/content/drive/MyDrive/Colab Notebooks/sign/images/sorry2.9f4ea465-e3a3-11ed-ad88-18dbf20f662b.jpg\n",
            "/content/drive/MyDrive/Colab Notebooks/sign/images/sorry2.a086ba0f-e3a3-11ed-85c3-18dbf20f662b.jpg\n",
            "/content/drive/MyDrive/Colab Notebooks/sign/images/sorry2.a42c22c2-e3a3-11ed-b3b1-18dbf20f662b - Copy (2).jpg\n",
            "/content/drive/MyDrive/Colab Notebooks/sign/images/sorry2.a42c22c2-e3a3-11ed-b3b1-18dbf20f662b - Copy.jpg\n",
            "/content/drive/MyDrive/Colab Notebooks/sign/images/sorry2.a42c22c2-e3a3-11ed-b3b1-18dbf20f662b.jpg\n",
            "/content/drive/MyDrive/Colab Notebooks/sign/images/sorry2.a56362b3-e3a3-11ed-b1dd-18dbf20f662b.jpg\n",
            "/content/drive/MyDrive/Colab Notebooks/sign/images/sorry2.a69a21c4-e3a3-11ed-b580-18dbf20f662b.jpg\n",
            "/content/drive/MyDrive/Colab Notebooks/sign/images/sorry2.ab76ce9d-e3a3-11ed-ae07-18dbf20f662b - Copy.jpg\n",
            "/content/drive/MyDrive/Colab Notebooks/sign/images/sorry2.ab76ce9d-e3a3-11ed-ae07-18dbf20f662b.jpg\n",
            "/content/drive/MyDrive/Colab Notebooks/sign/images/sorry2.acab4803-e3a3-11ed-a422-18dbf20f662b.jpg\n",
            "/content/drive/MyDrive/Colab Notebooks/sign/images/sorry2.ade2dc24-e3a3-11ed-868e-18dbf20f662b - Copy (2).jpg\n",
            "/content/drive/MyDrive/Colab Notebooks/sign/images/sorry2.ade2dc24-e3a3-11ed-868e-18dbf20f662b - Copy.jpg\n",
            "/content/drive/MyDrive/Colab Notebooks/sign/images/sorry2.ade2dc24-e3a3-11ed-868e-18dbf20f662b.jpg\n",
            "/content/drive/MyDrive/Colab Notebooks/sign/images/sorry2.af1a342d-e3a3-11ed-9e3e-18dbf20f662b.jpg\n",
            "/content/drive/MyDrive/Colab Notebooks/sign/images/zero.9fa29141-e3a2-11ed-822b-18dbf20f662b.jpg\n",
            "/content/drive/MyDrive/Colab Notebooks/sign/images/zero.a0e94663-e3a2-11ed-a7fa-18dbf20f662b.jpg\n",
            "/content/drive/MyDrive/Colab Notebooks/sign/images/zero.a21d5f2e-e3a2-11ed-9927-18dbf20f662b.jpg\n",
            "/content/drive/MyDrive/Colab Notebooks/sign/images/zero.a3553040-e3a2-11ed-86fe-18dbf20f662b.jpg\n",
            "/content/drive/MyDrive/Colab Notebooks/sign/images/zero.a48cb5d3-e3a2-11ed-87c5-18dbf20f662b.jpg\n",
            "/content/drive/MyDrive/Colab Notebooks/sign/images/zero.a5c439ab-e3a2-11ed-ad5b-18dbf20f662b.jpg\n",
            "/content/drive/MyDrive/Colab Notebooks/sign/images/zero.a6fb9749-e3a2-11ed-abd5-18dbf20f662b.jpg\n",
            "/content/drive/MyDrive/Colab Notebooks/sign/images/zero.a833c8f6-e3a2-11ed-8e89-18dbf20f662b.jpg\n",
            "/content/drive/MyDrive/Colab Notebooks/sign/images/zero.a96bf752-e3a2-11ed-82d5-18dbf20f662b.jpg\n",
            "/content/drive/MyDrive/Colab Notebooks/sign/images/zero.aaa2a14d-e3a2-11ed-8ee8-18dbf20f662b.jpg\n",
            "/content/drive/MyDrive/Colab Notebooks/sign/images/zero.abdc05dd-e3a2-11ed-b4f5-18dbf20f662b.jpg\n",
            "/content/drive/MyDrive/Colab Notebooks/sign/images/zero.ad1366d9-e3a2-11ed-aaac-18dbf20f662b.jpg\n",
            "/content/drive/MyDrive/Colab Notebooks/sign/images/zero.ae492ff8-e3a2-11ed-b9e3-18dbf20f662b.jpg\n",
            "/content/drive/MyDrive/Colab Notebooks/sign/images/zero.af804575-e3a2-11ed-9425-18dbf20f662b.jpg\n",
            "/content/drive/MyDrive/Colab Notebooks/sign/images/zero.b0b7380a-e3a2-11ed-84d2-18dbf20f662b.jpg\n",
            "/content/drive/MyDrive/Colab Notebooks/sign/images/zero.b1ef2531-e3a2-11ed-a1bb-18dbf20f662b.jpg\n",
            "/content/drive/MyDrive/Colab Notebooks/sign/images/zero.b32828bd-e3a2-11ed-b6ec-18dbf20f662b.jpg\n",
            "/content/drive/MyDrive/Colab Notebooks/sign/images/zero.b45eeccc-e3a2-11ed-b357-18dbf20f662b.jpg\n",
            "/content/drive/MyDrive/Colab Notebooks/sign/images/zero.b5960719-e3a2-11ed-ab46-18dbf20f662b.jpg\n",
            "/content/drive/MyDrive/Colab Notebooks/sign/images/zero.b6cbf9a0-e3a2-11ed-9ed1-18dbf20f662b.jpg\n"
          ]
        }
      ]
    },
    {
      "cell_type": "code",
      "source": [
        "label_dict = {k: v for v, k in enumerate(set(y))}\n",
        "y = [label_dict[label] for label in y]"
      ],
      "metadata": {
        "id": "77r-F824HLGD"
      },
      "execution_count": 5,
      "outputs": []
    },
    {
      "cell_type": "code",
      "source": [
        "y"
      ],
      "metadata": {
        "colab": {
          "base_uri": "https://localhost:8080/"
        },
        "id": "v5YV1AcMHNE5",
        "outputId": "a2121c26-dc66-4cd4-b3ad-96048a2228d2"
      },
      "execution_count": null,
      "outputs": [
        {
          "output_type": "execute_result",
          "data": {
            "text/plain": [
              "[7,\n",
              " 7,\n",
              " 7,\n",
              " 7,\n",
              " 7,\n",
              " 7,\n",
              " 7,\n",
              " 7,\n",
              " 7,\n",
              " 7,\n",
              " 7,\n",
              " 7,\n",
              " 7,\n",
              " 7,\n",
              " 7,\n",
              " 7,\n",
              " 7,\n",
              " 7,\n",
              " 7,\n",
              " 7,\n",
              " 4,\n",
              " 4,\n",
              " 4,\n",
              " 4,\n",
              " 4,\n",
              " 4,\n",
              " 4,\n",
              " 4,\n",
              " 4,\n",
              " 4,\n",
              " 4,\n",
              " 4,\n",
              " 4,\n",
              " 4,\n",
              " 4,\n",
              " 4,\n",
              " 4,\n",
              " 4,\n",
              " 4,\n",
              " 4,\n",
              " 2,\n",
              " 2,\n",
              " 2,\n",
              " 2,\n",
              " 2,\n",
              " 2,\n",
              " 2,\n",
              " 2,\n",
              " 2,\n",
              " 2,\n",
              " 2,\n",
              " 2,\n",
              " 2,\n",
              " 2,\n",
              " 2,\n",
              " 2,\n",
              " 1,\n",
              " 1,\n",
              " 1,\n",
              " 1,\n",
              " 1,\n",
              " 1,\n",
              " 1,\n",
              " 1,\n",
              " 1,\n",
              " 1,\n",
              " 1,\n",
              " 1,\n",
              " 1,\n",
              " 1,\n",
              " 1,\n",
              " 1,\n",
              " 1,\n",
              " 1,\n",
              " 1,\n",
              " 1,\n",
              " 8,\n",
              " 8,\n",
              " 8,\n",
              " 8,\n",
              " 8,\n",
              " 8,\n",
              " 8,\n",
              " 8,\n",
              " 8,\n",
              " 8,\n",
              " 8,\n",
              " 8,\n",
              " 8,\n",
              " 8,\n",
              " 8,\n",
              " 8,\n",
              " 8,\n",
              " 8,\n",
              " 8,\n",
              " 9,\n",
              " 9,\n",
              " 9,\n",
              " 9,\n",
              " 9,\n",
              " 9,\n",
              " 9,\n",
              " 9,\n",
              " 9,\n",
              " 9,\n",
              " 9,\n",
              " 9,\n",
              " 9,\n",
              " 9,\n",
              " 9,\n",
              " 9,\n",
              " 9,\n",
              " 9,\n",
              " 9,\n",
              " 9,\n",
              " 5,\n",
              " 5,\n",
              " 5,\n",
              " 5,\n",
              " 5,\n",
              " 5,\n",
              " 5,\n",
              " 5,\n",
              " 5,\n",
              " 5,\n",
              " 5,\n",
              " 5,\n",
              " 5,\n",
              " 5,\n",
              " 5,\n",
              " 5,\n",
              " 5,\n",
              " 5,\n",
              " 5,\n",
              " 5,\n",
              " 3,\n",
              " 3,\n",
              " 3,\n",
              " 3,\n",
              " 3,\n",
              " 3,\n",
              " 3,\n",
              " 3,\n",
              " 3,\n",
              " 3,\n",
              " 3,\n",
              " 3,\n",
              " 3,\n",
              " 3,\n",
              " 3,\n",
              " 3,\n",
              " 3,\n",
              " 3,\n",
              " 3,\n",
              " 3,\n",
              " 6,\n",
              " 6,\n",
              " 6,\n",
              " 6,\n",
              " 6,\n",
              " 6,\n",
              " 6,\n",
              " 6,\n",
              " 6,\n",
              " 6,\n",
              " 6,\n",
              " 6,\n",
              " 6,\n",
              " 6,\n",
              " 6,\n",
              " 6,\n",
              " 6,\n",
              " 6,\n",
              " 6,\n",
              " 6,\n",
              " 0,\n",
              " 0,\n",
              " 0,\n",
              " 0,\n",
              " 0,\n",
              " 0,\n",
              " 0,\n",
              " 0,\n",
              " 0,\n",
              " 0,\n",
              " 0,\n",
              " 0,\n",
              " 0,\n",
              " 0,\n",
              " 0,\n",
              " 0,\n",
              " 0,\n",
              " 0,\n",
              " 0,\n",
              " 0]"
            ]
          },
          "metadata": {},
          "execution_count": 39
        }
      ]
    },
    {
      "cell_type": "code",
      "source": [
        "reverse_label_dict = {v: k for k, v in label_dict.items()}\n",
        "original_labels = [reverse_label_dict[label_index] for label_index in y]\n",
        "label_dict.items()"
      ],
      "metadata": {
        "colab": {
          "base_uri": "https://localhost:8080/"
        },
        "id": "NpBky4mPf19o",
        "outputId": "f27dc56f-f82a-4d61-d93e-b694ad19428e"
      },
      "execution_count": 8,
      "outputs": [
        {
          "output_type": "execute_result",
          "data": {
            "text/plain": [
              "dict_items([('drink', 0), ('month', 1), ('father', 2), ('sorry', 3), ('mother', 4), ('today', 5), ('zero', 6), ('eat', 7), ('granfather', 8), ('sleep', 9)])"
            ]
          },
          "metadata": {},
          "execution_count": 8
        }
      ]
    },
    {
      "cell_type": "code",
      "source": [
        "X = np.array(X)\n",
        "y = np.array(y, dtype=np.int32)\n",
        "from tensorflow.keras.utils import to_categorical\n",
        "y=to_categorical(y,10)\n",
        "from sklearn.utils import shuffle\n",
        "X,y = shuffle(X,y)\n",
        "X=X/255.0\n",
        "df = pd.DataFrame(list(zip(X, y)), columns =['images', 'label']) \n",
        "print(df)"
      ],
      "metadata": {
        "colab": {
          "base_uri": "https://localhost:8080/"
        },
        "id": "j8hcvNKZHAqx",
        "outputId": "c7f5039e-9e40-465a-ef80-dd699c147803"
      },
      "execution_count": 9,
      "outputs": [
        {
          "output_type": "stream",
          "name": "stdout",
          "text": [
            "                                                images  \\\n",
            "0    [[[0.34509803921568627, 0.27058823529411763, 0...   \n",
            "1    [[[0.24705882352941178, 0.2549019607843137, 0....   \n",
            "2    [[[0.49019607843137253, 0.45098039215686275, 0...   \n",
            "3    [[[0.2, 0.1803921568627451, 0.1647058823529411...   \n",
            "4    [[[0.19215686274509805, 0.17254901960784313, 0...   \n",
            "..                                                 ...   \n",
            "190  [[[0.15294117647058825, 0.1568627450980392, 0....   \n",
            "191  [[[0.2549019607843137, 0.2549019607843137, 0.2...   \n",
            "192  [[[0.39215686274509803, 0.37254901960784315, 0...   \n",
            "193  [[[0.1803921568627451, 0.16470588235294117, 0....   \n",
            "194  [[[0.23529411764705882, 0.2235294117647059, 0....   \n",
            "\n",
            "                                                 label  \n",
            "0    [0.0, 0.0, 0.0, 0.0, 0.0, 0.0, 0.0, 0.0, 1.0, ...  \n",
            "1    [0.0, 0.0, 0.0, 0.0, 0.0, 1.0, 0.0, 0.0, 0.0, ...  \n",
            "2    [0.0, 0.0, 1.0, 0.0, 0.0, 0.0, 0.0, 0.0, 0.0, ...  \n",
            "3    [0.0, 0.0, 0.0, 0.0, 0.0, 0.0, 1.0, 0.0, 0.0, ...  \n",
            "4    [0.0, 1.0, 0.0, 0.0, 0.0, 0.0, 0.0, 0.0, 0.0, ...  \n",
            "..                                                 ...  \n",
            "190  [0.0, 0.0, 0.0, 0.0, 0.0, 0.0, 0.0, 0.0, 0.0, ...  \n",
            "191  [0.0, 0.0, 1.0, 0.0, 0.0, 0.0, 0.0, 0.0, 0.0, ...  \n",
            "192  [0.0, 0.0, 0.0, 1.0, 0.0, 0.0, 0.0, 0.0, 0.0, ...  \n",
            "193  [0.0, 1.0, 0.0, 0.0, 0.0, 0.0, 0.0, 0.0, 0.0, ...  \n",
            "194  [0.0, 0.0, 0.0, 0.0, 0.0, 0.0, 0.0, 0.0, 1.0, ...  \n",
            "\n",
            "[195 rows x 2 columns]\n"
          ]
        }
      ]
    },
    {
      "cell_type": "code",
      "source": [
        "from sklearn.model_selection import train_test_split\n",
        "\n",
        "X_train, X_test, y_train, y_test = train_test_split(X, y, test_size=0.10, random_state=42)\n",
        "X_train, X_val, y_train, y_val = train_test_split(X_train, y_train, test_size=0.10, random_state=42)\n",
        "\n"
      ],
      "metadata": {
        "id": "emXoBm6NPDlN"
      },
      "execution_count": 10,
      "outputs": []
    },
    {
      "cell_type": "code",
      "source": [
        "vgg = VGG19(input_shape=(224, 224, 3), weights='imagenet', include_top=False)\n",
        "for layer in vgg.layers:\n",
        "    layer.trainable = False\n",
        "flat_layer = Flatten()(vgg.output)\n",
        "final_layer = Dense(10, activation='softmax')(flat_layer)\n",
        "model = Model(inputs=vgg.input, outputs=final_layer)\n",
        "model.summary()\n"
      ],
      "metadata": {
        "colab": {
          "base_uri": "https://localhost:8080/"
        },
        "id": "GV72eVAbHlzQ",
        "outputId": "511667c9-b010-4e98-d197-ac7fda306781"
      },
      "execution_count": 11,
      "outputs": [
        {
          "output_type": "stream",
          "name": "stdout",
          "text": [
            "Downloading data from https://storage.googleapis.com/tensorflow/keras-applications/vgg19/vgg19_weights_tf_dim_ordering_tf_kernels_notop.h5\n",
            "80134624/80134624 [==============================] - 1s 0us/step\n",
            "Model: \"model\"\n",
            "_________________________________________________________________\n",
            " Layer (type)                Output Shape              Param #   \n",
            "=================================================================\n",
            " input_1 (InputLayer)        [(None, 224, 224, 3)]     0         \n",
            "                                                                 \n",
            " block1_conv1 (Conv2D)       (None, 224, 224, 64)      1792      \n",
            "                                                                 \n",
            " block1_conv2 (Conv2D)       (None, 224, 224, 64)      36928     \n",
            "                                                                 \n",
            " block1_pool (MaxPooling2D)  (None, 112, 112, 64)      0         \n",
            "                                                                 \n",
            " block2_conv1 (Conv2D)       (None, 112, 112, 128)     73856     \n",
            "                                                                 \n",
            " block2_conv2 (Conv2D)       (None, 112, 112, 128)     147584    \n",
            "                                                                 \n",
            " block2_pool (MaxPooling2D)  (None, 56, 56, 128)       0         \n",
            "                                                                 \n",
            " block3_conv1 (Conv2D)       (None, 56, 56, 256)       295168    \n",
            "                                                                 \n",
            " block3_conv2 (Conv2D)       (None, 56, 56, 256)       590080    \n",
            "                                                                 \n",
            " block3_conv3 (Conv2D)       (None, 56, 56, 256)       590080    \n",
            "                                                                 \n",
            " block3_conv4 (Conv2D)       (None, 56, 56, 256)       590080    \n",
            "                                                                 \n",
            " block3_pool (MaxPooling2D)  (None, 28, 28, 256)       0         \n",
            "                                                                 \n",
            " block4_conv1 (Conv2D)       (None, 28, 28, 512)       1180160   \n",
            "                                                                 \n",
            " block4_conv2 (Conv2D)       (None, 28, 28, 512)       2359808   \n",
            "                                                                 \n",
            " block4_conv3 (Conv2D)       (None, 28, 28, 512)       2359808   \n",
            "                                                                 \n",
            " block4_conv4 (Conv2D)       (None, 28, 28, 512)       2359808   \n",
            "                                                                 \n",
            " block4_pool (MaxPooling2D)  (None, 14, 14, 512)       0         \n",
            "                                                                 \n",
            " block5_conv1 (Conv2D)       (None, 14, 14, 512)       2359808   \n",
            "                                                                 \n",
            " block5_conv2 (Conv2D)       (None, 14, 14, 512)       2359808   \n",
            "                                                                 \n",
            " block5_conv3 (Conv2D)       (None, 14, 14, 512)       2359808   \n",
            "                                                                 \n",
            " block5_conv4 (Conv2D)       (None, 14, 14, 512)       2359808   \n",
            "                                                                 \n",
            " block5_pool (MaxPooling2D)  (None, 7, 7, 512)         0         \n",
            "                                                                 \n",
            " flatten (Flatten)           (None, 25088)             0         \n",
            "                                                                 \n",
            " dense (Dense)               (None, 10)                250890    \n",
            "                                                                 \n",
            "=================================================================\n",
            "Total params: 20,275,274\n",
            "Trainable params: 250,890\n",
            "Non-trainable params: 20,024,384\n",
            "_________________________________________________________________\n"
          ]
        }
      ]
    },
    {
      "cell_type": "code",
      "source": [
        "#train last layer\n",
        "model.compile(loss='categorical_crossentropy',optimizer='adam',metrics=['accuracy'])\n",
        "epochs = 100\n",
        "earlystop = EarlyStopping(\"val_accuracy\", patience=30, verbose=1, restore_best_weights=True,)\n",
        "history = model.fit(X_train,y_train,validation_data=(X_val,y_val),epochs=epochs,callbacks=[earlystop])\n",
        "from tensorflow.keras.models import load_model\n",
        "\n",
        "model.save('/content/drive/MyDrive/Colab Notebooks/sign/images/sign.h5')\n",
        "\n",
        "scores=model.evaluate(X_val,y_val)\n",
        "print(\"Accuarcy %s: %.2f%%\" % (model.metrics_names[1], scores[1]*100))\n",
        "\n"
      ],
      "metadata": {
        "colab": {
          "base_uri": "https://localhost:8080/"
        },
        "id": "Wq4hfgI1Loc1",
        "outputId": "027e0423-585b-4eb8-95f1-676d0cdfce99"
      },
      "execution_count": 12,
      "outputs": [
        {
          "output_type": "stream",
          "name": "stdout",
          "text": [
            "Epoch 1/100\n",
            "5/5 [==============================] - 21s 2s/step - loss: 2.9561 - accuracy: 0.3376 - val_loss: 0.9452 - val_accuracy: 0.7778\n",
            "Epoch 2/100\n",
            "5/5 [==============================] - 1s 184ms/step - loss: 1.2374 - accuracy: 0.7197 - val_loss: 1.0224 - val_accuracy: 0.8333\n",
            "Epoch 3/100\n",
            "5/5 [==============================] - 1s 185ms/step - loss: 0.3056 - accuracy: 0.9236 - val_loss: 0.1095 - val_accuracy: 1.0000\n",
            "Epoch 4/100\n",
            "5/5 [==============================] - 1s 177ms/step - loss: 0.1905 - accuracy: 0.9363 - val_loss: 0.0906 - val_accuracy: 0.9444\n",
            "Epoch 5/100\n",
            "5/5 [==============================] - 1s 176ms/step - loss: 0.0506 - accuracy: 0.9936 - val_loss: 0.0367 - val_accuracy: 1.0000\n",
            "Epoch 6/100\n",
            "5/5 [==============================] - 1s 176ms/step - loss: 0.0166 - accuracy: 1.0000 - val_loss: 0.1044 - val_accuracy: 1.0000\n",
            "Epoch 7/100\n",
            "5/5 [==============================] - 1s 175ms/step - loss: 0.0276 - accuracy: 0.9936 - val_loss: 0.1165 - val_accuracy: 1.0000\n",
            "Epoch 8/100\n",
            "5/5 [==============================] - 1s 178ms/step - loss: 0.0202 - accuracy: 0.9936 - val_loss: 0.0659 - val_accuracy: 1.0000\n",
            "Epoch 9/100\n",
            "5/5 [==============================] - 1s 178ms/step - loss: 0.0100 - accuracy: 1.0000 - val_loss: 0.0327 - val_accuracy: 1.0000\n",
            "Epoch 10/100\n",
            "5/5 [==============================] - 1s 174ms/step - loss: 0.0058 - accuracy: 1.0000 - val_loss: 0.0191 - val_accuracy: 1.0000\n",
            "Epoch 11/100\n",
            "5/5 [==============================] - 1s 176ms/step - loss: 0.0046 - accuracy: 1.0000 - val_loss: 0.0141 - val_accuracy: 1.0000\n",
            "Epoch 12/100\n",
            "5/5 [==============================] - 1s 175ms/step - loss: 0.0042 - accuracy: 1.0000 - val_loss: 0.0121 - val_accuracy: 1.0000\n",
            "Epoch 13/100\n",
            "5/5 [==============================] - 1s 178ms/step - loss: 0.0038 - accuracy: 1.0000 - val_loss: 0.0117 - val_accuracy: 1.0000\n",
            "Epoch 14/100\n",
            "5/5 [==============================] - 1s 178ms/step - loss: 0.0035 - accuracy: 1.0000 - val_loss: 0.0121 - val_accuracy: 1.0000\n",
            "Epoch 15/100\n",
            "5/5 [==============================] - 1s 177ms/step - loss: 0.0032 - accuracy: 1.0000 - val_loss: 0.0125 - val_accuracy: 1.0000\n",
            "Epoch 16/100\n",
            "5/5 [==============================] - 1s 177ms/step - loss: 0.0031 - accuracy: 1.0000 - val_loss: 0.0128 - val_accuracy: 1.0000\n",
            "Epoch 17/100\n",
            "5/5 [==============================] - 1s 178ms/step - loss: 0.0030 - accuracy: 1.0000 - val_loss: 0.0130 - val_accuracy: 1.0000\n",
            "Epoch 18/100\n",
            "5/5 [==============================] - 1s 178ms/step - loss: 0.0029 - accuracy: 1.0000 - val_loss: 0.0133 - val_accuracy: 1.0000\n",
            "Epoch 19/100\n",
            "5/5 [==============================] - 1s 179ms/step - loss: 0.0028 - accuracy: 1.0000 - val_loss: 0.0132 - val_accuracy: 1.0000\n",
            "Epoch 20/100\n",
            "5/5 [==============================] - 1s 180ms/step - loss: 0.0028 - accuracy: 1.0000 - val_loss: 0.0133 - val_accuracy: 1.0000\n",
            "Epoch 21/100\n",
            "5/5 [==============================] - 1s 180ms/step - loss: 0.0027 - accuracy: 1.0000 - val_loss: 0.0130 - val_accuracy: 1.0000\n",
            "Epoch 22/100\n",
            "5/5 [==============================] - 1s 177ms/step - loss: 0.0026 - accuracy: 1.0000 - val_loss: 0.0126 - val_accuracy: 1.0000\n",
            "Epoch 23/100\n",
            "5/5 [==============================] - 1s 178ms/step - loss: 0.0025 - accuracy: 1.0000 - val_loss: 0.0124 - val_accuracy: 1.0000\n",
            "Epoch 24/100\n",
            "5/5 [==============================] - 1s 177ms/step - loss: 0.0025 - accuracy: 1.0000 - val_loss: 0.0123 - val_accuracy: 1.0000\n",
            "Epoch 25/100\n",
            "5/5 [==============================] - 1s 177ms/step - loss: 0.0024 - accuracy: 1.0000 - val_loss: 0.0119 - val_accuracy: 1.0000\n",
            "Epoch 26/100\n",
            "5/5 [==============================] - 1s 178ms/step - loss: 0.0024 - accuracy: 1.0000 - val_loss: 0.0118 - val_accuracy: 1.0000\n",
            "Epoch 27/100\n",
            "5/5 [==============================] - 1s 177ms/step - loss: 0.0023 - accuracy: 1.0000 - val_loss: 0.0118 - val_accuracy: 1.0000\n",
            "Epoch 28/100\n",
            "5/5 [==============================] - 1s 177ms/step - loss: 0.0023 - accuracy: 1.0000 - val_loss: 0.0116 - val_accuracy: 1.0000\n",
            "Epoch 29/100\n",
            "5/5 [==============================] - 1s 174ms/step - loss: 0.0022 - accuracy: 1.0000 - val_loss: 0.0112 - val_accuracy: 1.0000\n",
            "Epoch 30/100\n",
            "5/5 [==============================] - 1s 180ms/step - loss: 0.0022 - accuracy: 1.0000 - val_loss: 0.0113 - val_accuracy: 1.0000\n",
            "Epoch 31/100\n",
            "5/5 [==============================] - 1s 179ms/step - loss: 0.0021 - accuracy: 1.0000 - val_loss: 0.0111 - val_accuracy: 1.0000\n",
            "Epoch 32/100\n",
            "5/5 [==============================] - 1s 180ms/step - loss: 0.0021 - accuracy: 1.0000 - val_loss: 0.0109 - val_accuracy: 1.0000\n",
            "Epoch 33/100\n",
            "5/5 [==============================] - ETA: 0s - loss: 0.0020 - accuracy: 1.0000Restoring model weights from the end of the best epoch: 3.\n",
            "5/5 [==============================] - 1s 191ms/step - loss: 0.0020 - accuracy: 1.0000 - val_loss: 0.0109 - val_accuracy: 1.0000\n",
            "Epoch 33: early stopping\n",
            "1/1 [==============================] - 0s 179ms/step - loss: 0.1095 - accuracy: 1.0000\n",
            "Accuarcy accuracy: 100.00%\n"
          ]
        }
      ]
    },
    {
      "cell_type": "code",
      "source": [
        "y_test_pred = model.predict(X_test)\n",
        "y_prediction = np.argmax(y_test_pred, axis=1)\n",
        "y_true=np.argmax(y_test, axis=1)"
      ],
      "metadata": {
        "colab": {
          "base_uri": "https://localhost:8080/"
        },
        "id": "1I5rEoFkNEZn",
        "outputId": "72ead296-a58b-4e32-9a4a-949dc97ea2e6"
      },
      "execution_count": null,
      "outputs": [
        {
          "output_type": "stream",
          "name": "stdout",
          "text": [
            "1/1 [==============================] - 3s 3s/step\n"
          ]
        }
      ]
    },
    {
      "cell_type": "code",
      "source": [
        "from sklearn.metrics import classification_report, confusion_matrix\n",
        "cm = confusion_matrix(y_true, y_prediction)\n",
        "cm"
      ],
      "metadata": {
        "colab": {
          "base_uri": "https://localhost:8080/"
        },
        "id": "x1xnS3DXMi3v",
        "outputId": "6c69ed21-7712-4cfa-cd12-b3fab9d1a203"
      },
      "execution_count": null,
      "outputs": [
        {
          "output_type": "execute_result",
          "data": {
            "text/plain": [
              "array([[2, 0, 0, 0, 0, 0, 0, 0, 0],\n",
              "       [0, 2, 0, 0, 0, 0, 0, 0, 0],\n",
              "       [0, 0, 3, 0, 0, 0, 0, 0, 0],\n",
              "       [0, 0, 0, 1, 0, 0, 0, 0, 0],\n",
              "       [0, 0, 0, 0, 6, 0, 0, 0, 0],\n",
              "       [0, 0, 0, 0, 0, 2, 0, 0, 0],\n",
              "       [0, 0, 0, 0, 0, 0, 1, 0, 0],\n",
              "       [0, 0, 0, 0, 0, 0, 0, 2, 0],\n",
              "       [0, 0, 0, 0, 0, 0, 0, 0, 1]])"
            ]
          },
          "metadata": {},
          "execution_count": 53
        }
      ]
    },
    {
      "cell_type": "code",
      "source": [
        "from mlxtend.plotting import plot_confusion_matrix\n",
        "fig, ax = plot_confusion_matrix(conf_mat=cm ,  figsize=(5, 5))\n",
        "plt.show()"
      ],
      "metadata": {
        "colab": {
          "base_uri": "https://localhost:8080/",
          "height": 465
        },
        "id": "pREOTAkIOmiK",
        "outputId": "f5efc71a-283c-4290-82e6-be7cb981b43e"
      },
      "execution_count": null,
      "outputs": [
        {
          "output_type": "display_data",
          "data": {
            "text/plain": [
              "<Figure size 500x500 with 1 Axes>"
            ],
            "image/png": "[encoded data removed]"
          },
          "metadata": {}
        }
      ]
    },
    {
      "cell_type": "code",
      "source": [
        "from sklearn.metrics import classification_report\n",
        "print(classification_report(y_true, y_prediction))"
      ],
      "metadata": {
        "colab": {
          "base_uri": "https://localhost:8080/"
        },
        "id": "BfoSQXUQOtap",
        "outputId": "06d170d4-be51-4148-cfca-053568b1437f"
      },
      "execution_count": null,
      "outputs": [
        {
          "output_type": "stream",
          "name": "stdout",
          "text": [
            "              precision    recall  f1-score   support\n",
            "\n",
            "           0       1.00      1.00      1.00         2\n",
            "           1       1.00      1.00      1.00         2\n",
            "           3       1.00      1.00      1.00         3\n",
            "           4       1.00      1.00      1.00         1\n",
            "           5       1.00      1.00      1.00         6\n",
            "           6       1.00      1.00      1.00         2\n",
            "           7       1.00      1.00      1.00         1\n",
            "           8       1.00      1.00      1.00         2\n",
            "           9       1.00      1.00      1.00         1\n",
            "\n",
            "    accuracy                           1.00        20\n",
            "   macro avg       1.00      1.00      1.00        20\n",
            "weighted avg       1.00      1.00      1.00        20\n",
            "\n"
          ]
        }
      ]
    },
    {
      "cell_type": "code",
      "source": [
        "predictions = model.predict(X_test)\n",
        "\n",
        "# Get the index of the predicted label\n",
        "predicted_label_index = tf.argmax(predictions, axis=-1).numpy()[0]\n",
        "\n",
        "# Output the predicted label\n",
        "print(f\"Predicted label: {predicted_label_index}\")"
      ],
      "metadata": {
        "colab": {
          "base_uri": "https://localhost:8080/"
        },
        "id": "3jCqmseEp_1u",
        "outputId": "c7379a66-f618-4a33-9add-59bff5a8446b"
      },
      "execution_count": 18,
      "outputs": [
        {
          "output_type": "stream",
          "name": "stdout",
          "text": [
            "1/1 [==============================] - 0s 34ms/step\n",
            "Predicted label: 8\n"
          ]
        }
      ]
    },
    {
      "cell_type": "code",
      "source": [
        "z=[]\n",
        "img_path = '/content/drive/MyDrive/Colab Notebooks/sign/images/bab.35c8c08d-e3a0-11ed-9acb-18dbf20f662b.jpg' \n",
        "orignal_image = cv2.imread(img_path)\n",
        "image = cv2.cvtColor(orignal_image, cv2.COLOR_BGR2RGB)\n",
        "resized_image = cv2.resize(image, (224,224))\n",
        "z.append(resized_image)\n",
        "z= np.array(z)\n",
        "z=z/255.0"
      ],
      "metadata": {
        "id": "3Ez0f-hMtCO9"
      },
      "execution_count": 23,
      "outputs": []
    },
    {
      "cell_type": "code",
      "source": [
        "predictions = model.predict(z)\n",
        "\n",
        "# Get the index of the predicted label\n",
        "predicted_label_index = tf.argmax(predictions, axis=-1).numpy()[0]\n",
        "\n",
        "# Output the predicted label\n",
        "print(f\"Predicted label: {predicted_label_index}\")"
      ],
      "metadata": {
        "colab": {
          "base_uri": "https://localhost:8080/"
        },
        "id": "rbUrQtdirW7i",
        "outputId": "44babd45-bb91-440e-89a4-6d0884ec3a61"
      },
      "execution_count": 24,
      "outputs": [
        {
          "output_type": "stream",
          "name": "stdout",
          "text": [
            "1/1 [==============================] - 1s 592ms/step\n",
            "Predicted label: 2\n"
          ]
        }
      ]
    }
  ]
}